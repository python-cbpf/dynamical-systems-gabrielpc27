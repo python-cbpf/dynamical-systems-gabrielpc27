{
 "cells": [
  {
   "cell_type": "code",
   "execution_count": 1,
   "metadata": {},
   "outputs": [],
   "source": [
    "import scipy as sp\n",
    "import numpy as np\n",
    "from matplotlib import pyplot as plt\n",
    "#import array as arr"
   ]
  },
  {
   "cell_type": "markdown",
   "metadata": {},
   "source": [
    "#### Definindo evolução temporal"
   ]
  },
  {
   "cell_type": "code",
   "execution_count": 2,
   "metadata": {},
   "outputs": [],
   "source": [
    "def get_ev(rule=None, verbose=0):\n",
    "    msg = \"Please provide the number of the cellular automata to be generated: \"\n",
    "    if rule is None: rule = int(input(msg))\n",
    "    while rule<1 or rule>256:  # rule not in range(1, 257):\n",
    "        print(\"Error: please provide a number between 1 and 256.\\n\")\n",
    "        rule = int(input(msg))\n",
    "    if verbose: print(\"Rule =\", rule)\n",
    "\n",
    "    ev = bin(rule-1).replace(\"0b\",\"\")\n",
    "    ev = [int(k) for k in ev]\n",
    "    ev[:0] = [0] * (8 - len(ev))\n",
    "#    ev = ev[::-1]\n",
    "\n",
    "    if verbose: print(\"Evolution =\", ev)\n",
    "    return ev\n",
    "\n",
    "# ev = [int((bin(k-1).replace(\"0b\", \"\"))//10**i)%2 for i in range(8)] ; print(ev)"
   ]
  },
  {
   "cell_type": "markdown",
   "metadata": {},
   "source": [
    "#### Condição inicial: um ponto no meio"
   ]
  },
  {
   "cell_type": "code",
   "execution_count": 3,
   "metadata": {},
   "outputs": [
    {
     "name": "stdout",
     "output_type": "stream",
     "text": [
      "[1, 0, 0, 1, 0, 1, 1, 0, 0, 0, 0]\n"
     ]
    }
   ],
   "source": [
    "def init_random(N):\n",
    "    bb = np.random.randint(0, 2, size=N)\n",
    "    return list(bb)\n",
    "    # return [np.random.randint(0, 2) for _ in range(N)]\n",
    "\n",
    "def init_config_1(N):\n",
    "    assert (isinstance(N, int) and N > 0), \"Erro: informar N inteiro positivo\"\n",
    "    s0 = []\n",
    "    for i in range(0, (N-1)//2):\n",
    "        s0.append(0)\n",
    "    s0.append(1)\n",
    "    for i in range((N+1)//2, N):\n",
    "        s0.append(0)\n",
    "    return s0\n",
    "\n",
    "N = 11\n",
    "# N = int(input(\"Please provide the size of the lattice: \"))\n",
    "\n",
    "s0 = init_random(N) # init_config_1(N)\n",
    "print(s0)"
   ]
  },
  {
   "cell_type": "code",
   "execution_count": 4,
   "metadata": {
    "scrolled": false
   },
   "outputs": [],
   "source": [
    "def cell_aut_1d(L0=None, rule=None, t_max=None, cc=\"p\", Fix_i=0, Fix_f=0, N=11, verbose=0):\n",
    "    \n",
    "    err_cc = \"Error. Insert valid boundary condition\"\n",
    "    if rule is None: rule = np.random.randint(1, 257)\n",
    "    if L0 is None: L0 = init_random(N)\n",
    "    if t_max is None: t_max = 2*N\n",
    "    if cc==\"f\" and [Fix_i, Fix_f] not in [[0, 0], [0, 1], [1, 0], [1, 1]]:\n",
    "        print(err_cc)\n",
    "\n",
    "    ev = get_ev(rule)\n",
    "    L_total = []\n",
    "    L_total.append(L0)\n",
    "    L = L0.copy()\n",
    "    novo_L = []\n",
    "    if verbose==1: print(L0, \"j =\", 0)\n",
    "    \n",
    "    if cc == \"p\":\n",
    "        for j in range(0,t_max):\n",
    "            L.append(L[0])\n",
    "            novo_L = []\n",
    "            for i in range(0, N):\n",
    "                ind_i = L[i-1]*4 + L[i]*2 + L[i+1]\n",
    "                novo_L.append(ev[ind_i])\n",
    "            if verbose==1: print(novo_L, \"j =\", j+1)\n",
    "            L = novo_L.copy()\n",
    "            L_total.append(L)\n",
    "\n",
    "    elif cc == \"f\":\n",
    "        for j in range(0, t_max):\n",
    "            novo_L = []\n",
    "            ind_0 = Fix_i*4 + L[0]*2 + L[1]\n",
    "            novo_L.append(ev[ind_0])\n",
    "            for i in range(1, N-1):\n",
    "                ind_i = L[i-1]*4 + L[i]*2 + L[i+1]\n",
    "                novo_L.append(ev[ind_i])\n",
    "            ind_N_1 = L[N-2]*4 + L[N-1]*2 + Fix_f\n",
    "            novo_L.append(ev[ind_N_1])\n",
    "            if verbose==1: print(novo_L, \"j =\", j+1)\n",
    "            L = novo_L.copy()\n",
    "            L_total.append(L)\n",
    "      \n",
    "    else: return print(err_cc)\n",
    "    \n",
    "    return N, t_max, L_total"
   ]
  },
  {
   "cell_type": "code",
   "execution_count": 75,
   "metadata": {},
   "outputs": [
    {
     "data": {
      "text/plain": [
       "[[0, 1, 0, 0, 0, 1, 0, 1, 1, 0, 1],\n",
       " [0, 1, 0, 0, 0, 1, 1, 0, 0, 1, 1, 0],\n",
       " [0, 1, 0, 0, 0, 0, 0, 0, 0, 0, 0, 0],\n",
       " [0, 1, 0, 0, 0, 0, 0, 0, 0, 0, 0, 0],\n",
       " [0, 1, 0, 0, 0, 0, 0, 0, 0, 0, 0, 0],\n",
       " [0, 1, 0, 0, 0, 0, 0, 0, 0, 0, 0, 0],\n",
       " [0, 1, 0, 0, 0, 0, 0, 0, 0, 0, 0, 0],\n",
       " [0, 1, 0, 0, 0, 0, 0, 0, 0, 0, 0, 0],\n",
       " [0, 1, 0, 0, 0, 0, 0, 0, 0, 0, 0, 0],\n",
       " [0, 1, 0, 0, 0, 0, 0, 0, 0, 0, 0, 0],\n",
       " [0, 1, 0, 0, 0, 0, 0, 0, 0, 0, 0, 0],\n",
       " [0, 1, 0, 0, 0, 0, 0, 0, 0, 0, 0, 0],\n",
       " [0, 1, 0, 0, 0, 0, 0, 0, 0, 0, 0, 0],\n",
       " [0, 1, 0, 0, 0, 0, 0, 0, 0, 0, 0, 0],\n",
       " [0, 1, 0, 0, 0, 0, 0, 0, 0, 0, 0, 0],\n",
       " [0, 1, 0, 0, 0, 0, 0, 0, 0, 0, 0, 0],\n",
       " [0, 1, 0, 0, 0, 0, 0, 0, 0, 0, 0, 0],\n",
       " [0, 1, 0, 0, 0, 0, 0, 0, 0, 0, 0, 0],\n",
       " [0, 1, 0, 0, 0, 0, 0, 0, 0, 0, 0, 0],\n",
       " [0, 1, 0, 0, 0, 0, 0, 0, 0, 0, 0, 0],\n",
       " [0, 1, 0, 0, 0, 0, 0, 0, 0, 0, 0, 0],\n",
       " [0, 1, 0, 0, 0, 0, 0, 0, 0, 0, 0, 0],\n",
       " [0, 1, 0, 0, 0, 0, 0, 0, 0, 0, 0]]"
      ]
     },
     "execution_count": 75,
     "metadata": {},
     "output_type": "execute_result"
    }
   ],
   "source": [
    "_, _, Lista_teste = cell_aut_1d()\n",
    "Lista_teste"
   ]
  },
  {
   "cell_type": "code",
   "execution_count": 6,
   "metadata": {},
   "outputs": [],
   "source": [
    "n, T, Lista = cell_aut_1d(L0 = init_config_1(N), rule=131, cc=\"f\", N=11, verbose=0) #L0=init_config_1(11)\n",
    "\n",
    "x = []\n",
    "y = []\n",
    "\n",
    "#for t in range(0, T+1):\n",
    "#    values = list(enumerate(Lista[t]))\n",
    "#    plt.plot(values[t][0], [t]*N)"
   ]
  },
  {
   "cell_type": "code",
   "execution_count": 7,
   "metadata": {},
   "outputs": [
    {
     "data": {
      "text/plain": [
       "[0, 1, 2, 3, 4, 5, 6, 7, 8, 9, 10]"
      ]
     },
     "execution_count": 7,
     "metadata": {},
     "output_type": "execute_result"
    }
   ],
   "source": [
    "values_0 = [values[k][0] for k in range(len(values))]\n",
    "values_0"
   ]
  },
  {
   "cell_type": "code",
   "execution_count": null,
   "metadata": {},
   "outputs": [],
   "source": []
  },
  {
   "cell_type": "code",
   "execution_count": 8,
   "metadata": {},
   "outputs": [
    {
     "data": {
      "text/plain": [
       "[(0, 0),\n",
       " (1, 0),\n",
       " (2, 0),\n",
       " (3, 0),\n",
       " (4, 0),\n",
       " (5, 1),\n",
       " (6, 0),\n",
       " (7, 0),\n",
       " (8, 0),\n",
       " (9, 0),\n",
       " (10, 0)]"
      ]
     },
     "execution_count": 8,
     "metadata": {},
     "output_type": "execute_result"
    }
   ],
   "source": [
    "values"
   ]
  },
  {
   "cell_type": "markdown",
   "metadata": {},
   "source": [
    "## Plot ponto a ponto"
   ]
  },
  {
   "cell_type": "code",
   "execution_count": 80,
   "metadata": {},
   "outputs": [],
   "source": [
    "def plot_ponto_a_ponto(Lista=None, markersize=10):\n",
    "    for i in range(len(Lista)):\n",
    "        for j in range(len(Lista[i])):\n",
    "            if Lista[i][j] == 1:\n",
    "                plt.plot(j, i, \"sk\", markersize)\n",
    "            else: None\n",
    "    plt.show()"
   ]
  },
  {
   "cell_type": "code",
   "execution_count": 86,
   "metadata": {
    "scrolled": false
   },
   "outputs": [
    {
     "data": {
      "image/png": "[encoded data removed]",
      "text/plain": [
       "<Figure size 432x288 with 1 Axes>"
      ]
     },
     "metadata": {
      "needs_background": "light"
     },
     "output_type": "display_data"
    }
   ],
   "source": [
    "#_, _, Lista_teste = cell_aut_1d()\n",
    "plot_ponto_a_ponto(Lista=Lista_teste)"
   ]
  },
  {
   "cell_type": "code",
   "execution_count": 87,
   "metadata": {},
   "outputs": [
    {
     "data": {
      "text/plain": [
       "[[0, 0, 0, 1, 1, 1, 1, 1, 1, 1, 0],\n",
       " [0, 0, 1, 1, 0, 0, 0, 0, 0, 0, 0, 0],\n",
       " [0, 1, 1, 0, 0, 0, 0, 0, 0, 0, 0, 0],\n",
       " [1, 1, 0, 0, 0, 0, 0, 0, 0, 0, 0, 1],\n",
       " [0, 0, 0, 0, 0, 0, 0, 0, 0, 0, 1, 0],\n",
       " [0, 0, 0, 0, 0, 0, 0, 0, 0, 1, 0, 0],\n",
       " [0, 0, 0, 0, 0, 0, 0, 0, 1, 0, 0, 0],\n",
       " [0, 0, 0, 0, 0, 0, 0, 1, 0, 0, 0, 0],\n",
       " [0, 0, 0, 0, 0, 0, 1, 0, 0, 0, 0, 0],\n",
       " [0, 0, 0, 0, 0, 1, 0, 0, 0, 0, 0, 0],\n",
       " [0, 0, 0, 0, 1, 0, 0, 0, 0, 0, 0, 0],\n",
       " [0, 0, 0, 1, 0, 0, 0, 0, 0, 0, 0, 0],\n",
       " [0, 0, 1, 0, 0, 0, 0, 0, 0, 0, 0, 0],\n",
       " [0, 1, 0, 0, 0, 0, 0, 0, 0, 0, 0, 0],\n",
       " [1, 0, 0, 0, 0, 0, 0, 0, 0, 0, 0, 1],\n",
       " [0, 0, 0, 0, 0, 0, 0, 0, 0, 0, 1, 0],\n",
       " [0, 0, 0, 0, 0, 0, 0, 0, 0, 1, 0, 0],\n",
       " [0, 0, 0, 0, 0, 0, 0, 0, 1, 0, 0, 0],\n",
       " [0, 0, 0, 0, 0, 0, 0, 1, 0, 0, 0, 0],\n",
       " [0, 0, 0, 0, 0, 0, 1, 0, 0, 0, 0, 0],\n",
       " [0, 0, 0, 0, 0, 1, 0, 0, 0, 0, 0, 0],\n",
       " [0, 0, 0, 0, 1, 0, 0, 0, 0, 0, 0, 0],\n",
       " [0, 0, 0, 1, 0, 0, 0, 0, 0, 0, 0]]"
      ]
     },
     "execution_count": 87,
     "metadata": {},
     "output_type": "execute_result"
    }
   ],
   "source": [
    "Lista_teste"
   ]
  }
 ],
 "metadata": {
  "kernelspec": {
   "display_name": "Python 3",
   "language": "python",
   "name": "python3"
  },
  "language_info": {
   "codemirror_mode": {
    "name": "ipython",
    "version": 3
   },
   "file_extension": ".py",
   "mimetype": "text/x-python",
   "name": "python",
   "nbconvert_exporter": "python",
   "pygments_lexer": "ipython3",
   "version": "3.6.9"
  }
 },
 "nbformat": 4,
 "nbformat_minor": 2
}
